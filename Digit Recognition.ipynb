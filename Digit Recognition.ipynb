{
 "cells": [
  {
   "cell_type": "code",
   "execution_count": 1,
   "id": "d86cc301",
   "metadata": {},
   "outputs": [],
   "source": [
    "import tensorflow as tf\n",
    "from tensorflow.keras.models import Sequential\n",
    "from tensorflow.keras.layers import Dense,Dropout,Conv2D,MaxPooling2D,Flatten,BatchNormalization\n",
    "from tensorflow.keras.datasets import mnist\n",
    "\n",
    "import tensorflow.keras.backend as K"
   ]
  },
  {
   "cell_type": "code",
   "execution_count": 2,
   "id": "61fb931e",
   "metadata": {},
   "outputs": [],
   "source": [
    "(x_train,y_train),(x_test,y_test) = mnist.load_data()\n"
   ]
  },
  {
   "cell_type": "code",
   "execution_count": 3,
   "id": "2304c50c",
   "metadata": {},
   "outputs": [
    {
     "name": "stdout",
     "output_type": "stream",
     "text": [
      "Dimension of x_train (60000, 28, 28)\n",
      "Dimension of x_test (10000, 28, 28)\n",
      "Dimension of y_test (10000,)\n"
     ]
    }
   ],
   "source": [
    "#our dataset\n",
    "\n",
    "print(\"Dimension of x_train\",x_train.shape)\n",
    "print(\"Dimension of x_test\",x_test.shape)\n",
    "print(\"Dimension of y_test\",y_test.shape)"
   ]
  },
  {
   "cell_type": "code",
   "execution_count": 4,
   "id": "59ad3b6e",
   "metadata": {},
   "outputs": [
    {
     "data": {
      "image/png": "[encoded data removed]",
      "text/plain": [
       "<Figure size 432x288 with 1 Axes>"
      ]
     },
     "metadata": {
      "needs_background": "light"
     },
     "output_type": "display_data"
    },
    {
     "name": "stdout",
     "output_type": "stream",
     "text": [
      "9\n"
     ]
    }
   ],
   "source": [
    "#sample of our dataset\n",
    "import numpy as np\n",
    "import matplotlib.pyplot as plt\n",
    "\n",
    "plt.imshow(x_train[5])\n",
    "plt.show()\n",
    "print(y_train[4])"
   ]
  },
  {
   "cell_type": "code",
   "execution_count": 5,
   "id": "9c5c8040",
   "metadata": {},
   "outputs": [],
   "source": [
    "#defining some parameters for our model\n",
    "num_classes = 10\n",
    "#as we have 10 classes (0-9) \n",
    "#we need to prdeict one out of 10 which has high probability\n",
    "epochs = 30\n",
    "img_rows = 28 \n",
    "img_cols = 28\n",
    "#as each image is 28 by 28 pixel\n"
   ]
  },
  {
   "cell_type": "code",
   "execution_count": 6,
   "id": "24e4fa24",
   "metadata": {},
   "outputs": [],
   "source": [
    "#normalizing image \n",
    "x_train =x_train.astype(float)\n",
    "x_train =x_train/255\n",
    "x_test =x_test.astype(float)\n",
    "x_test =x_test/255\n",
    "\n",
    "#y_train =y_train/255\n",
    "from tensorflow.keras.utils import to_categorical\n",
    "y_train = to_categorical(y_train, num_classes = 10, dtype = 'float32')\n",
    "y_test = to_categorical(y_test, num_classes = 10, dtype = 'float32')"
   ]
  },
  {
   "cell_type": "code",
   "execution_count": 7,
   "id": "02ab0866",
   "metadata": {},
   "outputs": [],
   "source": [
    "\n",
    "if K.image_data_format() =='channels_first':\n",
    "    x_train = x_train.reshape(x_train.shape[0],1,img_rows,img_cols)\n",
    "    x_test = x_test.reshape(x_test.shape[0],1,img_rows,img_cols)\n",
    "    input_shape = (1,img_rows,img_cols)\n",
    "else:\n",
    "    x_train = x_train.reshape(x_train.shape[0],img_rows,img_cols,1)\n",
    "    x_test = x_test.reshape(x_test.shape[0],img_rows,img_cols,1)\n",
    "    input_shape = (img_rows,img_cols,1)\n",
    "    "
   ]
  },
  {
   "cell_type": "code",
   "execution_count": 8,
   "id": "3a20ebcb",
   "metadata": {},
   "outputs": [],
   "source": [
    "#build our model\n",
    "#BY DEFAULT STRIDE IS 1\n",
    "model = Sequential()\n",
    "model.add(Conv2D(32, kernel_size = 3, activation='relu', input_shape = input_shape))\n",
    "model.add(MaxPooling2D())\n",
    "model.add(Conv2D(32, kernel_size = 3, activation='relu'))\n",
    "model.add(BatchNormalization())\n",
    "model.add(Conv2D(32, kernel_size = 5, strides=2, padding='same', activation='relu'))\n",
    "model.add(BatchNormalization())\n",
    "model.add(Dropout(0.4))\n",
    "model.add(Conv2D(64, kernel_size = 3, activation='relu'))\n",
    "model.add(BatchNormalization())\n",
    "model.add(Conv2D(64, kernel_size = 3, activation='relu'))\n",
    "model.add(BatchNormalization())\n",
    "model.add(Conv2D(64, kernel_size = 5, strides=2, padding='same', activation='relu'))\n",
    "model.add(BatchNormalization())\n",
    "model.add(Dropout(0.4))\n",
    "model.add(Flatten())\n",
    "model.add(Dropout(0.4))\n",
    "model.add(Dense(10, activation='softmax'))"
   ]
  },
  {
   "cell_type": "code",
   "execution_count": 9,
   "id": "73f2f51b",
   "metadata": {},
   "outputs": [],
   "source": [
    "#model compilation\n",
    "model.compile(loss='categorical_crossentropy', optimizer='adam', metrics=['accuracy'])\n"
   ]
  },
  {
   "cell_type": "code",
   "execution_count": 10,
   "id": "e9ba5c2f",
   "metadata": {},
   "outputs": [
    {
     "name": "stdout",
     "output_type": "stream",
     "text": [
      "Model: \"sequential\"\n",
      "_________________________________________________________________\n",
      " Layer (type)                Output Shape              Param #   \n",
      "=================================================================\n",
      " conv2d (Conv2D)             (None, 26, 26, 32)        320       \n",
      "                                                                 \n",
      " max_pooling2d (MaxPooling2D  (None, 13, 13, 32)       0         \n",
      " )                                                               \n",
      "                                                                 \n",
      " conv2d_1 (Conv2D)           (None, 11, 11, 32)        9248      \n",
      "                                                                 \n",
      " batch_normalization (BatchN  (None, 11, 11, 32)       128       \n",
      " ormalization)                                                   \n",
      "                                                                 \n",
      " conv2d_2 (Conv2D)           (None, 6, 6, 32)          25632     \n",
      "                                                                 \n",
      " batch_normalization_1 (Batc  (None, 6, 6, 32)         128       \n",
      " hNormalization)                                                 \n",
      "                                                                 \n",
      " dropout (Dropout)           (None, 6, 6, 32)          0         \n",
      "                                                                 \n",
      " conv2d_3 (Conv2D)           (None, 4, 4, 64)          18496     \n",
      "                                                                 \n",
      " batch_normalization_2 (Batc  (None, 4, 4, 64)         256       \n",
      " hNormalization)                                                 \n",
      "                                                                 \n",
      " conv2d_4 (Conv2D)           (None, 2, 2, 64)          36928     \n",
      "                                                                 \n",
      " batch_normalization_3 (Batc  (None, 2, 2, 64)         256       \n",
      " hNormalization)                                                 \n",
      "                                                                 \n",
      " conv2d_5 (Conv2D)           (None, 1, 1, 64)          102464    \n",
      "                                                                 \n",
      " batch_normalization_4 (Batc  (None, 1, 1, 64)         256       \n",
      " hNormalization)                                                 \n",
      "                                                                 \n",
      " dropout_1 (Dropout)         (None, 1, 1, 64)          0         \n",
      "                                                                 \n",
      " flatten (Flatten)           (None, 64)                0         \n",
      "                                                                 \n",
      " dropout_2 (Dropout)         (None, 64)                0         \n",
      "                                                                 \n",
      " dense (Dense)               (None, 10)                650       \n",
      "                                                                 \n",
      "=================================================================\n",
      "Total params: 194,762\n",
      "Trainable params: 194,250\n",
      "Non-trainable params: 512\n",
      "_________________________________________________________________\n"
     ]
    }
   ],
   "source": [
    "model.summary()"
   ]
  },
  {
   "cell_type": "code",
   "execution_count": 11,
   "id": "3fb40ab9",
   "metadata": {},
   "outputs": [
    {
     "name": "stdout",
     "output_type": "stream",
     "text": [
      "Epoch 1/30\n",
      "300/300 [==============================] - 44s 143ms/step - loss: 0.4611 - accuracy: 0.8657 - val_loss: 0.7692 - val_accuracy: 0.7131\n",
      "Epoch 2/30\n",
      "300/300 [==============================] - 44s 146ms/step - loss: 0.1130 - accuracy: 0.9696 - val_loss: 0.0535 - val_accuracy: 0.9831\n",
      "Epoch 3/30\n",
      "300/300 [==============================] - 43s 145ms/step - loss: 0.0766 - accuracy: 0.9791 - val_loss: 0.0390 - val_accuracy: 0.9882\n",
      "Epoch 4/30\n",
      "300/300 [==============================] - 44s 146ms/step - loss: 0.0612 - accuracy: 0.9837 - val_loss: 0.0387 - val_accuracy: 0.9884\n",
      "Epoch 5/30\n",
      "300/300 [==============================] - 54s 178ms/step - loss: 0.0510 - accuracy: 0.9863 - val_loss: 0.0362 - val_accuracy: 0.9907\n",
      "Epoch 6/30\n",
      "300/300 [==============================] - 48s 161ms/step - loss: 0.0453 - accuracy: 0.9874 - val_loss: 0.0370 - val_accuracy: 0.9892\n",
      "Epoch 7/30\n",
      "300/300 [==============================] - 47s 157ms/step - loss: 0.0391 - accuracy: 0.9892 - val_loss: 0.0248 - val_accuracy: 0.9928\n",
      "Epoch 8/30\n",
      "300/300 [==============================] - 49s 163ms/step - loss: 0.0349 - accuracy: 0.9905 - val_loss: 0.0387 - val_accuracy: 0.9901\n",
      "Epoch 9/30\n",
      "300/300 [==============================] - 45s 151ms/step - loss: 0.0338 - accuracy: 0.9907 - val_loss: 0.0308 - val_accuracy: 0.9914\n",
      "Epoch 10/30\n",
      "300/300 [==============================] - 45s 151ms/step - loss: 0.0317 - accuracy: 0.9914 - val_loss: 0.0275 - val_accuracy: 0.9920\n",
      "Epoch 11/30\n",
      "300/300 [==============================] - 48s 160ms/step - loss: 0.0284 - accuracy: 0.9921 - val_loss: 0.0347 - val_accuracy: 0.9900\n",
      "Epoch 12/30\n",
      "300/300 [==============================] - 45s 150ms/step - loss: 0.0261 - accuracy: 0.9927 - val_loss: 0.0282 - val_accuracy: 0.9914\n",
      "Epoch 13/30\n",
      "300/300 [==============================] - 45s 150ms/step - loss: 0.0240 - accuracy: 0.9931 - val_loss: 0.0292 - val_accuracy: 0.9919\n",
      "Epoch 14/30\n",
      "300/300 [==============================] - 49s 165ms/step - loss: 0.0231 - accuracy: 0.9938 - val_loss: 0.0383 - val_accuracy: 0.9896\n",
      "Epoch 15/30\n",
      "300/300 [==============================] - 48s 161ms/step - loss: 0.0230 - accuracy: 0.9937 - val_loss: 0.0286 - val_accuracy: 0.9930\n",
      "Epoch 16/30\n",
      "300/300 [==============================] - 51s 169ms/step - loss: 0.0214 - accuracy: 0.9938 - val_loss: 0.0281 - val_accuracy: 0.9932\n",
      "Epoch 17/30\n",
      "300/300 [==============================] - 47s 157ms/step - loss: 0.0203 - accuracy: 0.9943 - val_loss: 0.0256 - val_accuracy: 0.9945\n",
      "Epoch 18/30\n",
      "300/300 [==============================] - 51s 169ms/step - loss: 0.0199 - accuracy: 0.9941 - val_loss: 0.0244 - val_accuracy: 0.9939\n",
      "Epoch 19/30\n",
      "300/300 [==============================] - 55s 185ms/step - loss: 0.0173 - accuracy: 0.9947 - val_loss: 0.0282 - val_accuracy: 0.9924\n",
      "Epoch 20/30\n",
      "300/300 [==============================] - 53s 176ms/step - loss: 0.0166 - accuracy: 0.9953 - val_loss: 0.0257 - val_accuracy: 0.9941\n",
      "Epoch 21/30\n",
      "300/300 [==============================] - 56s 186ms/step - loss: 0.0174 - accuracy: 0.9951 - val_loss: 0.0442 - val_accuracy: 0.9910\n",
      "Epoch 22/30\n",
      "300/300 [==============================] - 49s 164ms/step - loss: 0.0158 - accuracy: 0.9954 - val_loss: 0.0277 - val_accuracy: 0.9930\n",
      "Epoch 23/30\n",
      "300/300 [==============================] - 53s 177ms/step - loss: 0.0150 - accuracy: 0.9955 - val_loss: 0.0241 - val_accuracy: 0.9940\n",
      "Epoch 24/30\n",
      "300/300 [==============================] - 54s 179ms/step - loss: 0.0120 - accuracy: 0.9966 - val_loss: 0.0305 - val_accuracy: 0.9928\n",
      "Epoch 25/30\n",
      "300/300 [==============================] - 56s 187ms/step - loss: 0.0131 - accuracy: 0.9961 - val_loss: 0.0336 - val_accuracy: 0.9917\n",
      "Epoch 26/30\n",
      "300/300 [==============================] - 53s 178ms/step - loss: 0.0121 - accuracy: 0.9965 - val_loss: 0.0335 - val_accuracy: 0.9930\n",
      "Epoch 27/30\n",
      "300/300 [==============================] - 49s 163ms/step - loss: 0.0115 - accuracy: 0.9966 - val_loss: 0.0298 - val_accuracy: 0.9924\n",
      "Epoch 28/30\n",
      "300/300 [==============================] - 46s 152ms/step - loss: 0.0132 - accuracy: 0.9962 - val_loss: 0.0349 - val_accuracy: 0.9927\n",
      "Epoch 29/30\n",
      "300/300 [==============================] - 48s 160ms/step - loss: 0.0115 - accuracy: 0.9967 - val_loss: 0.0379 - val_accuracy: 0.9918\n",
      "Epoch 30/30\n",
      "300/300 [==============================] - 47s 156ms/step - loss: 0.0098 - accuracy: 0.9972 - val_loss: 0.0273 - val_accuracy: 0.9930\n",
      "Baseline Error: 0.70%\n"
     ]
    }
   ],
   "source": [
    "#fit the model\n",
    "model.fit(x_train,y_train,batch_size=200,epochs=epochs,validation_data=(x_test,y_test))\n",
    "# Final evaluation of the model\n",
    "scores = model.evaluate(x_test, y_test, verbose=0)\n",
    "print(\"Baseline Error: %.2f%%\" % (100-scores[1]*100))"
   ]
  },
  {
   "cell_type": "code",
   "execution_count": 12,
   "id": "b5daf732",
   "metadata": {},
   "outputs": [
    {
     "name": "stdout",
     "output_type": "stream",
     "text": [
      "313/313 [==============================] - 4s 12ms/step - loss: 0.0273 - accuracy: 0.9930\n",
      "Score is : 0.027290359139442444\n",
      "Accuracy : 0.9929999709129333\n"
     ]
    }
   ],
   "source": [
    "score ,acc = model.evaluate(x_test,y_test)\n",
    "print(\"Score is:\",score)\n",
    "print(\"Accuracy:\",acc)"
   ]
  },
  {
   "cell_type": "code",
   "execution_count": 13,
   "id": "5408e7b0",
   "metadata": {},
   "outputs": [],
   "source": [
    "#save our model\n",
    "\n",
    "model_json = model.to_json()\n",
    "with open(\"model.json\",\"w\") as json_file:\n",
    "    json_file.write(model_json)\n",
    "model.save_weights(\"models.h5\")"
   ]
  },
  {
   "cell_type": "code",
   "execution_count": null,
   "id": "5e2c6956",
   "metadata": {},
   "outputs": [],
   "source": []
  }
 ],
 "metadata": {
  "kernelspec": {
   "display_name": "Python 3 (ipykernel)",
   "language": "python",
   "name": "python3"
  },
  "language_info": {
   "codemirror_mode": {
    "name": "ipython",
    "version": 3
   },
   "file_extension": ".py",
   "mimetype": "text/x-python",
   "name": "python",
   "nbconvert_exporter": "python",
   "pygments_lexer": "ipython3",
   "version": "3.9.7"
  }
 },
 "nbformat": 4,
 "nbformat_minor": 5
}
